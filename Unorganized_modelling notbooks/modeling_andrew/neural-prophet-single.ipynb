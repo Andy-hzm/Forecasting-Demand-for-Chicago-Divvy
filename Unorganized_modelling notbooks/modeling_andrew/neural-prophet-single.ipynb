{
 "cells": [
  {
   "cell_type": "code",
   "execution_count": 80,
   "metadata": {},
   "outputs": [],
   "source": [
    "import pandas as pd\n",
    "import numpy as np\n",
    "import matplotlib.pyplot as plt\n",
    "import seaborn as sns"
   ]
  },
  {
   "cell_type": "code",
   "execution_count": 81,
   "metadata": {},
   "outputs": [
    {
     "name": "stderr",
     "output_type": "stream",
     "text": [
      "WARNING - (py.warnings._showwarnmsg) - /var/folders/sk/1lq3mdt55q3579qwycd7hv4c0000gn/T/ipykernel_65391/1970558186.py:2: DtypeWarning: Columns (2) have mixed types. Specify dtype option on import or set low_memory=False.\n",
      "  train = pd.read_csv('train.csv')\n",
      "\n"
     ]
    }
   ],
   "source": [
    "# Load training and test data:\n",
    "train = pd.read_csv('train.csv')\n",
    "test = pd.read_csv('test.csv')"
   ]
  },
  {
   "cell_type": "code",
   "execution_count": 86,
   "metadata": {},
   "outputs": [
    {
     "name": "stderr",
     "output_type": "stream",
     "text": [
      "WARNING - (NP.forecaster.fit) - When Global modeling with local normalization, metrics are displayed in normalized scale.\n",
      "WARNING - (py.warnings._showwarnmsg) - /opt/anaconda3/lib/python3.12/site-packages/neuralprophet/df_utils.py:1152: FutureWarning:\n",
      "\n",
      "Series.view is deprecated and will be removed in a future version. Use ``astype`` as an alternative to change the dtype.\n",
      "\n",
      "\n",
      "INFO - (NP.df_utils._infer_frequency) - Major frequency D corresponds to 98.958% of the data.\n",
      "WARNING - (py.warnings._showwarnmsg) - /opt/anaconda3/lib/python3.12/site-packages/neuralprophet/df_utils.py:1152: FutureWarning:\n",
      "\n",
      "Series.view is deprecated and will be removed in a future version. Use ``astype`` as an alternative to change the dtype.\n",
      "\n",
      "\n",
      "WARNING - (py.warnings._showwarnmsg) - /opt/anaconda3/lib/python3.12/site-packages/neuralprophet/df_utils.py:1152: FutureWarning:\n",
      "\n",
      "Series.view is deprecated and will be removed in a future version. Use ``astype`` as an alternative to change the dtype.\n",
      "\n",
      "\n",
      "INFO - (NP.df_utils._infer_frequency) - Defined frequency is equal to major frequency - D\n",
      "INFO - (NP.config.init_data_params) - Setting normalization to global as only one dataframe provided for training.\n",
      "INFO - (NP.utils.set_auto_seasonalities) - Disabling daily seasonality. Run NeuralProphet with daily_seasonality=True to override this.\n",
      "INFO - (NP.config.set_auto_batch_epoch) - Auto-set batch_size to 32\n",
      "WARNING - (py.warnings._showwarnmsg) - /opt/anaconda3/lib/python3.12/site-packages/pytorch_lightning/trainer/setup.py:201: UserWarning:\n",
      "\n",
      "MPS available but not used. Set `accelerator` and `devices` using `Trainer(accelerator='mps', devices=1)`.\n",
      "\n",
      "\n",
      "WARNING - (NP.config.set_lr_finder_args) - Learning rate finder: The number of batches (45) is too small than the required number                     for the learning rate finder (229). The results might not be optimal.\n"
     ]
    },
    {
     "name": "stdout",
     "output_type": "stream",
     "text": [
      "Train Data for Streeter Dr & Grand Ave:\n",
      "              ds   y  temp_min_c\n",
      "178  2020-01-01  39        -5.5\n",
      "625  2020-01-02  45         2.0\n",
      "1086 2020-01-03  31         0.0\n",
      "1493 2020-01-04  15        -3.5\n",
      "2012 2020-01-05  30        -4.1\n",
      "Test Data for Streeter Dr & Grand Ave:\n",
      "              ds   y  temp_min_c\n",
      "242  2024-01-01  16        -1.9\n",
      "818  2024-01-02  33        -2.8\n",
      "1422 2024-01-03  20        -0.6\n",
      "2038 2024-01-04  19        -1.2\n",
      "2650 2024-01-05  30        -1.8\n"
     ]
    },
    {
     "data": {
      "application/vnd.jupyter.widget-view+json": {
       "model_id": "4c7f0d3e38054f88a0d2551f54ddac93",
       "version_major": 2,
       "version_minor": 0
      },
      "text/plain": [
       "Finding best initial lr:   0%|          | 0/229 [00:00<?, ?it/s]"
      ]
     },
     "metadata": {},
     "output_type": "display_data"
    },
    {
     "name": "stderr",
     "output_type": "stream",
     "text": [
      "WARNING - (py.warnings._showwarnmsg) - /opt/anaconda3/lib/python3.12/site-packages/lightning_fabric/utilities/cloud_io.py:51: FutureWarning:\n",
      "\n",
      "You are using `torch.load` with `weights_only=False` (the current default value), which uses the default pickle module implicitly. It is possible to construct malicious pickle data which will execute arbitrary code during unpickling (See https://github.com/pytorch/pytorch/blob/main/SECURITY.md#untrusted-models for more details). In a future release, the default value for `weights_only` will be flipped to `True`. This limits the functions that could be executed during unpickling. Arbitrary objects will no longer be allowed to be loaded via this mode unless they are explicitly allowlisted by the user via `torch.serialization.add_safe_globals`. We recommend you start setting `weights_only=True` for any use case where you don't have full control of the loaded file. Please open an issue on GitHub for any issues related to this experimental feature.\n",
      "\n",
      "\n"
     ]
    },
    {
     "data": {
      "application/vnd.jupyter.widget-view+json": {
       "model_id": "29baec7054da42da8d33cd9a9fb76e0a",
       "version_major": 2,
       "version_minor": 0
      },
      "text/plain": [
       "Training: 0it [00:00, ?it/s]"
      ]
     },
     "metadata": {},
     "output_type": "display_data"
    },
    {
     "name": "stderr",
     "output_type": "stream",
     "text": [
      "WARNING - (py.warnings._showwarnmsg) - /opt/anaconda3/lib/python3.12/site-packages/neuralprophet/df_utils.py:1152: FutureWarning:\n",
      "\n",
      "Series.view is deprecated and will be removed in a future version. Use ``astype`` as an alternative to change the dtype.\n",
      "\n",
      "\n",
      "INFO - (NP.df_utils._infer_frequency) - Major frequency D corresponds to 98.892% of the data.\n",
      "WARNING - (py.warnings._showwarnmsg) - /opt/anaconda3/lib/python3.12/site-packages/neuralprophet/df_utils.py:1152: FutureWarning:\n",
      "\n",
      "Series.view is deprecated and will be removed in a future version. Use ``astype`` as an alternative to change the dtype.\n",
      "\n",
      "\n",
      "WARNING - (py.warnings._showwarnmsg) - /opt/anaconda3/lib/python3.12/site-packages/neuralprophet/df_utils.py:1152: FutureWarning:\n",
      "\n",
      "Series.view is deprecated and will be removed in a future version. Use ``astype`` as an alternative to change the dtype.\n",
      "\n",
      "\n",
      "INFO - (NP.df_utils._infer_frequency) - Defined frequency is equal to major frequency - D\n",
      "WARNING - (py.warnings._showwarnmsg) - /opt/anaconda3/lib/python3.12/site-packages/neuralprophet/df_utils.py:1152: FutureWarning:\n",
      "\n",
      "Series.view is deprecated and will be removed in a future version. Use ``astype`` as an alternative to change the dtype.\n",
      "\n",
      "\n",
      "INFO - (NP.df_utils._infer_frequency) - Major frequency D corresponds to 98.892% of the data.\n",
      "WARNING - (py.warnings._showwarnmsg) - /opt/anaconda3/lib/python3.12/site-packages/neuralprophet/df_utils.py:1152: FutureWarning:\n",
      "\n",
      "Series.view is deprecated and will be removed in a future version. Use ``astype`` as an alternative to change the dtype.\n",
      "\n",
      "\n",
      "WARNING - (py.warnings._showwarnmsg) - /opt/anaconda3/lib/python3.12/site-packages/neuralprophet/df_utils.py:1152: FutureWarning:\n",
      "\n",
      "Series.view is deprecated and will be removed in a future version. Use ``astype`` as an alternative to change the dtype.\n",
      "\n",
      "\n",
      "INFO - (NP.df_utils._infer_frequency) - Defined frequency is equal to major frequency - D\n"
     ]
    },
    {
     "data": {
      "application/vnd.jupyter.widget-view+json": {
       "model_id": "04bd1f65b88c463aa89780f4bb8c32b1",
       "version_major": 2,
       "version_minor": 0
      },
      "text/plain": [
       "Predicting: 45it [00:00, ?it/s]"
      ]
     },
     "metadata": {},
     "output_type": "display_data"
    },
    {
     "name": "stderr",
     "output_type": "stream",
     "text": [
      "INFO - (NP.df_utils.return_df_in_original_format) - Returning df with no ID column\n"
     ]
    }
   ],
   "source": [
    "# Select one station\n",
    "station_name = 'Streeter Dr & Grand Ave'\n",
    "# Ensure all dates are in datetime format\n",
    "train['date'] = pd.to_datetime(train['date'])\n",
    "test['date'] = pd.to_datetime(test['date'])\n",
    "\n",
    "# Filter training and test data for the selected station\n",
    "station_train_data = train[train.start_station_name == station_name].drop(columns=['start_station_name'])\n",
    "station_test_data = test[test.start_station_name == station_name].drop(columns=['start_station_name'])\n",
    "# Rename columns to match NeuralProphet requirements\n",
    "station_train_data.rename(columns={'date': 'ds', 'total_rides': 'y'}, inplace=True)\n",
    "station_test_data.rename(columns={'date': 'ds', 'total_rides': 'y'}, inplace=True)\n",
    "# Filter only the required columns\n",
    "station_train_data = station_train_data[['ds', 'y', 'temp_min_c']]\n",
    "station_test_data = station_test_data[['ds', 'y', 'temp_min_c']]\n",
    "\n",
    "# Debugging: Print first few rows of the station-specific data\n",
    "print(f\"Train Data for {station_name}:\\n\", station_train_data.head())\n",
    "print(f\"Test Data for {station_name}:\\n\", station_test_data.head())\n",
    "\n",
    "# Ensure 'y' column is present\n",
    "assert 'y' in station_train_data.columns, \"Error: 'y' column missing in train data!\"\n",
    "assert 'y' in station_test_data.columns, \"Error: 'y' column missing in test data!\"\n",
    "\n",
    "# Initialize the NeuralProphet model\n",
    "model = NeuralProphet(epochs=100)\n",
    "\n",
    "# Add 'temp_min_c' as a future regressor\n",
    "model.add_future_regressor('temp_min_c')\n",
    "\n",
    "# Train the model\n",
    "metrics = model.fit(station_train_data, freq='D')\n",
    "\n",
    "# Store model stats\n",
    "model_stats = metrics\n",
    "\n",
    "# Use test data as future dataframe\n",
    "future = station_test_data[['ds', 'temp_min_c']].copy()\n",
    "future['y'] = station_test_data['y']\n",
    "\n",
    "# Predict future values\n",
    "forecast = model.predict(future)\n",
    "\n",
    "# Merge forecast with actual values\n",
    "result = forecast[['ds', 'yhat1']].merge(station_test_data[['ds', 'y']], on='ds', how='left')\n"
   ]
  },
  {
   "cell_type": "code",
   "execution_count": null,
   "metadata": {},
   "outputs": [
    {
     "data": {
      "application/vnd.microsoft.datawrangler.viewer.v0+json": {
       "columns": [
        {
         "name": "index",
         "rawType": "int64",
         "type": "integer"
        },
        {
         "name": "MAE",
         "rawType": "float64",
         "type": "float"
        },
        {
         "name": "RMSE",
         "rawType": "float64",
         "type": "float"
        },
        {
         "name": "Loss",
         "rawType": "float64",
         "type": "float"
        },
        {
         "name": "RegLoss",
         "rawType": "float64",
         "type": "float"
        },
        {
         "name": "epoch",
         "rawType": "int64",
         "type": "integer"
        }
       ],
       "conversionMethod": "pd.DataFrame",
       "ref": "e6c95cad-ac78-43cf-b227-e3fca5cbd5b0",
       "rows": [
        [
         "0",
         "1822.1949462890625",
         "1939.1234130859375",
         "2.1880693435668945",
         "0.0",
         "0"
        ],
        [
         "1",
         "1249.833984375",
         "1399.5030517578125",
         "1.4460906982421875",
         "0.0",
         "1"
        ],
        [
         "2",
         "700.5420532226562",
         "847.9644165039062",
         "0.7431325316429138",
         "0.0",
         "2"
        ],
        [
         "3",
         "280.9410705566406",
         "381.8106384277344",
         "0.23947033286094666",
         "0.0",
         "3"
        ],
        [
         "4",
         "153.527587890625",
         "194.77781677246094",
         "0.09968508780002594",
         "0.0",
         "4"
        ],
        [
         "5",
         "124.68534088134766",
         "160.28746032714844",
         "0.07195501029491425",
         "0.0",
         "5"
        ],
        [
         "6",
         "112.67143249511719",
         "146.77557373046875",
         "0.061985958367586136",
         "0.0",
         "6"
        ],
        [
         "7",
         "108.23326110839844",
         "140.2674102783203",
         "0.05876287445425987",
         "0.0",
         "7"
        ],
        [
         "8",
         "108.25883483886719",
         "140.9897003173828",
         "0.05891338363289833",
         "0.0",
         "8"
        ],
        [
         "9",
         "108.78520202636719",
         "139.5559539794922",
         "0.05848291143774986",
         "0.0",
         "9"
        ],
        [
         "10",
         "106.18367004394531",
         "139.90924072265625",
         "0.05727800354361534",
         "0.0",
         "10"
        ],
        [
         "11",
         "108.42113494873047",
         "142.4185333251953",
         "0.05927284434437752",
         "0.0",
         "11"
        ],
        [
         "12",
         "104.19593048095703",
         "137.67567443847656",
         "0.055931027978658676",
         "0.0",
         "12"
        ],
        [
         "13",
         "104.12834167480469",
         "136.96694946289062",
         "0.056181710213422775",
         "0.0",
         "13"
        ],
        [
         "14",
         "107.45549774169922",
         "139.5283966064453",
         "0.0576493963599205",
         "0.0",
         "14"
        ],
        [
         "15",
         "104.50210571289062",
         "138.4368896484375",
         "0.05612099915742874",
         "0.0",
         "15"
        ],
        [
         "16",
         "100.71491241455078",
         "135.2085418701172",
         "0.053627338260412216",
         "0.0",
         "16"
        ],
        [
         "17",
         "102.48589324951172",
         "136.02174377441406",
         "0.055234067142009735",
         "0.0",
         "17"
        ],
        [
         "18",
         "106.82843780517578",
         "143.77146911621094",
         "0.05950115621089935",
         "0.0",
         "18"
        ],
        [
         "19",
         "103.39399719238281",
         "140.9656982421875",
         "0.05739723891019821",
         "0.0",
         "19"
        ],
        [
         "20",
         "103.80587768554688",
         "137.87429809570312",
         "0.05625763535499573",
         "0.0",
         "20"
        ],
        [
         "21",
         "104.9472427368164",
         "142.66062927246094",
         "0.05870235711336136",
         "0.0",
         "21"
        ],
        [
         "22",
         "116.33740234375",
         "151.03363037109375",
         "0.0670010969042778",
         "0.0",
         "22"
        ],
        [
         "23",
         "111.30245208740234",
         "148.24667358398438",
         "0.06424910575151443",
         "0.0",
         "23"
        ],
        [
         "24",
         "108.70700073242188",
         "147.66139221191406",
         "0.06326622515916824",
         "0.0",
         "24"
        ],
        [
         "25",
         "109.88175201416016",
         "148.031005859375",
         "0.06251407414674759",
         "0.0",
         "25"
        ],
        [
         "26",
         "107.99264526367188",
         "144.30267333984375",
         "0.0611317940056324",
         "0.0",
         "26"
        ],
        [
         "27",
         "108.70388793945312",
         "146.1111602783203",
         "0.06264419853687286",
         "0.0",
         "27"
        ],
        [
         "28",
         "106.35987091064453",
         "141.9385528564453",
         "0.05860111489892006",
         "0.0",
         "28"
        ],
        [
         "29",
         "114.12960052490234",
         "151.6298370361328",
         "0.0657421350479126",
         "0.0",
         "29"
        ],
        [
         "30",
         "112.09963989257812",
         "149.3242950439453",
         "0.06497029215097427",
         "0.0",
         "30"
        ],
        [
         "31",
         "99.49510955810547",
         "136.23263549804688",
         "0.05430904030799866",
         "0.0",
         "31"
        ],
        [
         "32",
         "109.39331817626953",
         "144.61273193359375",
         "0.06129340082406998",
         "0.0",
         "32"
        ],
        [
         "33",
         "112.7645263671875",
         "151.81277465820312",
         "0.06623338907957077",
         "0.0",
         "33"
        ],
        [
         "34",
         "110.14984893798828",
         "147.22854614257812",
         "0.06291581690311432",
         "0.0",
         "34"
        ],
        [
         "35",
         "104.01028442382812",
         "138.04364013671875",
         "0.056865304708480835",
         "0.0",
         "35"
        ],
        [
         "36",
         "106.49756622314453",
         "142.97030639648438",
         "0.06030770391225815",
         "0.0",
         "36"
        ],
        [
         "37",
         "99.84180450439453",
         "134.4107208251953",
         "0.053830336779356",
         "0.0",
         "37"
        ],
        [
         "38",
         "101.2974624633789",
         "138.0963592529297",
         "0.05583648011088371",
         "0.0",
         "38"
        ],
        [
         "39",
         "99.92605590820312",
         "135.85440063476562",
         "0.055271271616220474",
         "0.0",
         "39"
        ],
        [
         "40",
         "98.99138641357422",
         "136.3080596923828",
         "0.05460089072585106",
         "0.0",
         "40"
        ],
        [
         "41",
         "100.44175720214844",
         "134.8542022705078",
         "0.05500506982207298",
         "0.0",
         "41"
        ],
        [
         "42",
         "93.17054748535156",
         "130.04576110839844",
         "0.04944220557808876",
         "0.0",
         "42"
        ],
        [
         "43",
         "96.59274291992188",
         "134.7675323486328",
         "0.053446829319000244",
         "0.0",
         "43"
        ],
        [
         "44",
         "91.3758773803711",
         "127.39535522460938",
         "0.04843495786190033",
         "0.0",
         "44"
        ],
        [
         "45",
         "91.86602783203125",
         "127.89221954345703",
         "0.048651255667209625",
         "0.0",
         "45"
        ],
        [
         "46",
         "95.28590393066406",
         "131.02011108398438",
         "0.051018040627241135",
         "0.0",
         "46"
        ],
        [
         "47",
         "91.1707992553711",
         "125.21177673339844",
         "0.0471358560025692",
         "0.0",
         "47"
        ],
        [
         "48",
         "84.82050323486328",
         "120.24390411376953",
         "0.04394906014204025",
         "0.0",
         "48"
        ],
        [
         "49",
         "89.08976745605469",
         "123.37699890136719",
         "0.04565070942044258",
         "0.0",
         "49"
        ]
       ],
       "shape": {
        "columns": 5,
        "rows": 100
       }
      },
      "text/html": [
       "<div>\n",
       "<style scoped>\n",
       "    .dataframe tbody tr th:only-of-type {\n",
       "        vertical-align: middle;\n",
       "    }\n",
       "\n",
       "    .dataframe tbody tr th {\n",
       "        vertical-align: top;\n",
       "    }\n",
       "\n",
       "    .dataframe thead th {\n",
       "        text-align: right;\n",
       "    }\n",
       "</style>\n",
       "<table border=\"1\" class=\"dataframe\">\n",
       "  <thead>\n",
       "    <tr style=\"text-align: right;\">\n",
       "      <th></th>\n",
       "      <th>MAE</th>\n",
       "      <th>RMSE</th>\n",
       "      <th>Loss</th>\n",
       "      <th>RegLoss</th>\n",
       "      <th>epoch</th>\n",
       "    </tr>\n",
       "  </thead>\n",
       "  <tbody>\n",
       "    <tr>\n",
       "      <th>0</th>\n",
       "      <td>1822.194946</td>\n",
       "      <td>1939.123413</td>\n",
       "      <td>2.188069</td>\n",
       "      <td>0.0</td>\n",
       "      <td>0</td>\n",
       "    </tr>\n",
       "    <tr>\n",
       "      <th>1</th>\n",
       "      <td>1249.833984</td>\n",
       "      <td>1399.503052</td>\n",
       "      <td>1.446091</td>\n",
       "      <td>0.0</td>\n",
       "      <td>1</td>\n",
       "    </tr>\n",
       "    <tr>\n",
       "      <th>2</th>\n",
       "      <td>700.542053</td>\n",
       "      <td>847.964417</td>\n",
       "      <td>0.743133</td>\n",
       "      <td>0.0</td>\n",
       "      <td>2</td>\n",
       "    </tr>\n",
       "    <tr>\n",
       "      <th>3</th>\n",
       "      <td>280.941071</td>\n",
       "      <td>381.810638</td>\n",
       "      <td>0.239470</td>\n",
       "      <td>0.0</td>\n",
       "      <td>3</td>\n",
       "    </tr>\n",
       "    <tr>\n",
       "      <th>4</th>\n",
       "      <td>153.527588</td>\n",
       "      <td>194.777817</td>\n",
       "      <td>0.099685</td>\n",
       "      <td>0.0</td>\n",
       "      <td>4</td>\n",
       "    </tr>\n",
       "    <tr>\n",
       "      <th>...</th>\n",
       "      <td>...</td>\n",
       "      <td>...</td>\n",
       "      <td>...</td>\n",
       "      <td>...</td>\n",
       "      <td>...</td>\n",
       "    </tr>\n",
       "    <tr>\n",
       "      <th>95</th>\n",
       "      <td>79.858459</td>\n",
       "      <td>114.581047</td>\n",
       "      <td>0.039329</td>\n",
       "      <td>0.0</td>\n",
       "      <td>95</td>\n",
       "    </tr>\n",
       "    <tr>\n",
       "      <th>96</th>\n",
       "      <td>79.972687</td>\n",
       "      <td>114.552452</td>\n",
       "      <td>0.039397</td>\n",
       "      <td>0.0</td>\n",
       "      <td>96</td>\n",
       "    </tr>\n",
       "    <tr>\n",
       "      <th>97</th>\n",
       "      <td>79.794434</td>\n",
       "      <td>113.430634</td>\n",
       "      <td>0.039362</td>\n",
       "      <td>0.0</td>\n",
       "      <td>97</td>\n",
       "    </tr>\n",
       "    <tr>\n",
       "      <th>98</th>\n",
       "      <td>79.693367</td>\n",
       "      <td>115.312698</td>\n",
       "      <td>0.039373</td>\n",
       "      <td>0.0</td>\n",
       "      <td>98</td>\n",
       "    </tr>\n",
       "    <tr>\n",
       "      <th>99</th>\n",
       "      <td>79.779762</td>\n",
       "      <td>113.947861</td>\n",
       "      <td>0.039274</td>\n",
       "      <td>0.0</td>\n",
       "      <td>99</td>\n",
       "    </tr>\n",
       "  </tbody>\n",
       "</table>\n",
       "<p>100 rows × 5 columns</p>\n",
       "</div>"
      ],
      "text/plain": [
       "            MAE         RMSE      Loss  RegLoss  epoch\n",
       "0   1822.194946  1939.123413  2.188069      0.0      0\n",
       "1   1249.833984  1399.503052  1.446091      0.0      1\n",
       "2    700.542053   847.964417  0.743133      0.0      2\n",
       "3    280.941071   381.810638  0.239470      0.0      3\n",
       "4    153.527588   194.777817  0.099685      0.0      4\n",
       "..          ...          ...       ...      ...    ...\n",
       "95    79.858459   114.581047  0.039329      0.0     95\n",
       "96    79.972687   114.552452  0.039397      0.0     96\n",
       "97    79.794434   113.430634  0.039362      0.0     97\n",
       "98    79.693367   115.312698  0.039373      0.0     98\n",
       "99    79.779762   113.947861  0.039274      0.0     99\n",
       "\n",
       "[100 rows x 5 columns]"
      ]
     },
     "execution_count": 92,
     "metadata": {},
     "output_type": "execute_result"
    }
   ],
   "source": [
    "from sklearn.metrics import r2_score\n",
    "\n",
    "# Extract actual and predicted values\n",
    "y_actual = result['y'].dropna()  # Drop NaNs to ensure alignment\n",
    "y_predicted = result.loc[y_actual.index, 'yhat1']  # Ensure same index alignment\n",
    "\n",
    "# Compute R²\n",
    "r2 = r2_score(y_actual, y_predicted)\n",
    "\n",
    "print(\"R² Score:\", r2)"
   ]
  },
  {
   "cell_type": "code",
   "execution_count": 9,
   "metadata": {},
   "outputs": [
    {
     "name": "stderr",
     "output_type": "stream",
     "text": [
      "WARNING - (py.warnings._showwarnmsg) - /var/folders/sk/1lq3mdt55q3579qwycd7hv4c0000gn/T/ipykernel_440/477343962.py:7: DtypeWarning:\n",
      "\n",
      "Columns (2) have mixed types. Specify dtype option on import or set low_memory=False.\n",
      "\n",
      "\n",
      "WARNING - (NP.forecaster.fit) - When Global modeling with local normalization, metrics are displayed in normalized scale.\n",
      "WARNING - (py.warnings._showwarnmsg) - /opt/anaconda3/lib/python3.12/site-packages/neuralprophet/df_utils.py:1152: FutureWarning:\n",
      "\n",
      "Series.view is deprecated and will be removed in a future version. Use ``astype`` as an alternative to change the dtype.\n",
      "\n",
      "\n",
      "INFO - (NP.df_utils._infer_frequency) - Major frequency D corresponds to 99.863% of the data.\n",
      "WARNING - (py.warnings._showwarnmsg) - /opt/anaconda3/lib/python3.12/site-packages/neuralprophet/df_utils.py:1152: FutureWarning:\n",
      "\n",
      "Series.view is deprecated and will be removed in a future version. Use ``astype`` as an alternative to change the dtype.\n",
      "\n",
      "\n",
      "WARNING - (py.warnings._showwarnmsg) - /opt/anaconda3/lib/python3.12/site-packages/neuralprophet/df_utils.py:1152: FutureWarning:\n",
      "\n",
      "Series.view is deprecated and will be removed in a future version. Use ``astype`` as an alternative to change the dtype.\n",
      "\n",
      "\n",
      "INFO - (NP.df_utils._infer_frequency) - Defined frequency is equal to major frequency - D\n",
      "INFO - (NP.config.init_data_params) - Setting normalization to global as only one dataframe provided for training.\n",
      "INFO - (NP.utils.set_auto_seasonalities) - Disabling daily seasonality. Run NeuralProphet with daily_seasonality=True to override this.\n",
      "INFO - (NP.config.set_auto_batch_epoch) - Auto-set batch_size to 32\n",
      "WARNING - (py.warnings._showwarnmsg) - /opt/anaconda3/lib/python3.12/site-packages/pytorch_lightning/trainer/setup.py:201: UserWarning:\n",
      "\n",
      "MPS available but not used. Set `accelerator` and `devices` using `Trainer(accelerator='mps', devices=1)`.\n",
      "\n",
      "\n",
      "WARNING - (NP.config.set_lr_finder_args) - Learning rate finder: The number of batches (46) is too small than the required number                     for the learning rate finder (229). The results might not be optimal.\n"
     ]
    },
    {
     "data": {
      "application/vnd.jupyter.widget-view+json": {
       "model_id": "a1d30a9252ee40cdaace8fbbdfcb7d12",
       "version_major": 2,
       "version_minor": 0
      },
      "text/plain": [
       "Finding best initial lr:   0%|          | 0/229 [00:00<?, ?it/s]"
      ]
     },
     "metadata": {},
     "output_type": "display_data"
    },
    {
     "name": "stderr",
     "output_type": "stream",
     "text": [
      "WARNING - (py.warnings._showwarnmsg) - /opt/anaconda3/lib/python3.12/site-packages/lightning_fabric/utilities/cloud_io.py:51: FutureWarning:\n",
      "\n",
      "You are using `torch.load` with `weights_only=False` (the current default value), which uses the default pickle module implicitly. It is possible to construct malicious pickle data which will execute arbitrary code during unpickling (See https://github.com/pytorch/pytorch/blob/main/SECURITY.md#untrusted-models for more details). In a future release, the default value for `weights_only` will be flipped to `True`. This limits the functions that could be executed during unpickling. Arbitrary objects will no longer be allowed to be loaded via this mode unless they are explicitly allowlisted by the user via `torch.serialization.add_safe_globals`. We recommend you start setting `weights_only=True` for any use case where you don't have full control of the loaded file. Please open an issue on GitHub for any issues related to this experimental feature.\n",
      "\n",
      "\n"
     ]
    },
    {
     "data": {
      "application/vnd.jupyter.widget-view+json": {
       "model_id": "2865240182fd491aa4473f805ad112ab",
       "version_major": 2,
       "version_minor": 0
      },
      "text/plain": [
       "Training: 0it [00:00, ?it/s]"
      ]
     },
     "metadata": {},
     "output_type": "display_data"
    },
    {
     "name": "stderr",
     "output_type": "stream",
     "text": [
      "WARNING - (py.warnings._showwarnmsg) - /opt/anaconda3/lib/python3.12/site-packages/neuralprophet/df_utils.py:1152: FutureWarning:\n",
      "\n",
      "Series.view is deprecated and will be removed in a future version. Use ``astype`` as an alternative to change the dtype.\n",
      "\n",
      "\n",
      "INFO - (NP.df_utils._infer_frequency) - Major frequency D corresponds to 99.452% of the data.\n",
      "WARNING - (py.warnings._showwarnmsg) - /opt/anaconda3/lib/python3.12/site-packages/neuralprophet/df_utils.py:1152: FutureWarning:\n",
      "\n",
      "Series.view is deprecated and will be removed in a future version. Use ``astype`` as an alternative to change the dtype.\n",
      "\n",
      "\n",
      "WARNING - (py.warnings._showwarnmsg) - /opt/anaconda3/lib/python3.12/site-packages/neuralprophet/df_utils.py:1152: FutureWarning:\n",
      "\n",
      "Series.view is deprecated and will be removed in a future version. Use ``astype`` as an alternative to change the dtype.\n",
      "\n",
      "\n",
      "INFO - (NP.df_utils._infer_frequency) - Defined frequency is equal to major frequency - D\n",
      "WARNING - (py.warnings._showwarnmsg) - /opt/anaconda3/lib/python3.12/site-packages/neuralprophet/df_utils.py:1152: FutureWarning:\n",
      "\n",
      "Series.view is deprecated and will be removed in a future version. Use ``astype`` as an alternative to change the dtype.\n",
      "\n",
      "\n",
      "INFO - (NP.df_utils._infer_frequency) - Major frequency D corresponds to 99.452% of the data.\n",
      "WARNING - (py.warnings._showwarnmsg) - /opt/anaconda3/lib/python3.12/site-packages/neuralprophet/df_utils.py:1152: FutureWarning:\n",
      "\n",
      "Series.view is deprecated and will be removed in a future version. Use ``astype`` as an alternative to change the dtype.\n",
      "\n",
      "\n",
      "WARNING - (py.warnings._showwarnmsg) - /opt/anaconda3/lib/python3.12/site-packages/neuralprophet/df_utils.py:1152: FutureWarning:\n",
      "\n",
      "Series.view is deprecated and will be removed in a future version. Use ``astype`` as an alternative to change the dtype.\n",
      "\n",
      "\n",
      "INFO - (NP.df_utils._infer_frequency) - Defined frequency is equal to major frequency - D\n"
     ]
    },
    {
     "data": {
      "application/vnd.jupyter.widget-view+json": {
       "model_id": "acf509947fd045788d87b4af87d69cb5",
       "version_major": 2,
       "version_minor": 0
      },
      "text/plain": [
       "Predicting: 46it [00:00, ?it/s]"
      ]
     },
     "metadata": {},
     "output_type": "display_data"
    },
    {
     "name": "stderr",
     "output_type": "stream",
     "text": [
      "INFO - (NP.df_utils.return_df_in_original_format) - Returning df with no ID column\n"
     ]
    }
   ],
   "source": [
    "import pandas as pd\n",
    "import numpy as np\n",
    "from neuralprophet import NeuralProphet\n",
    "from sklearn.metrics import r2_score\n",
    "\n",
    "# Load training and test data\n",
    "train = pd.read_csv('train.csv')\n",
    "test = pd.read_csv('test.csv')\n",
    "\n",
    "# Ensure all dates are in datetime format\n",
    "train['date'] = pd.to_datetime(train['date'])\n",
    "test['date'] = pd.to_datetime(test['date'])\n",
    "\n",
    "# Define the specific station to analyze\n",
    "station_name = \"Clark St & Elm St\"\n",
    "\n",
    "# Filter training and test data for the selected station\n",
    "station_train_data = train[train.start_station_name == station_name].drop(columns=['start_station_name'])\n",
    "station_test_data = test[test.start_station_name == station_name].drop(columns=['start_station_name'])\n",
    "\n",
    "# Rename columns to match NeuralProphet requirements\n",
    "station_train_data.rename(columns={'date': 'ds', 'total_rides': 'y'}, inplace=True)\n",
    "station_test_data.rename(columns={'date': 'ds', 'total_rides': 'y'}, inplace=True)\n",
    "\n",
    "# Filter only the required columns\n",
    "station_train_data = station_train_data[['ds', 'y', 'temp_min_c']]\n",
    "station_test_data = station_test_data[['ds', 'y', 'temp_min_c']]\n",
    "\n",
    "# Ensure no negative or zero values in y (total rides)\n",
    "station_train_data = station_train_data[station_train_data['y'] > 0]\n",
    "station_test_data = station_test_data[station_test_data['y'] > 0]\n",
    "\n",
    "# Initialize the NeuralProphet model with normalization and robust loss\n",
    "model = NeuralProphet(\n",
    "    epochs=100,\n",
    "    yearly_seasonality='auto',\n",
    "    weekly_seasonality='auto',\n",
    "    loss_func=\"Huber\",  # More robust loss to avoid extreme errors\n",
    "    normalize='soft'  # Normalize data for better training\n",
    ")\n",
    "\n",
    "# Add 'temp_min_c' as a future regressor\n",
    "model.add_future_regressor('temp_min_c')\n",
    "\n",
    "# Train the model with early stopping\n",
    "model.fit(station_train_data, freq='D', early_stopping=True)\n",
    "\n",
    "# Prepare future dataframe\n",
    "future = station_test_data[['ds', 'temp_min_c']].copy()\n",
    "future['y'] = station_test_data['y']\n",
    "\n",
    "# Predict future values\n",
    "forecast = model.predict(future)\n",
    "\n",
    "# Ensure predictions are non-negative\n",
    "forecast['yhat1'] = forecast['yhat1'].clip(lower=0)\n",
    "\n",
    "# Merge forecast with actual values\n",
    "result = forecast[['ds', 'yhat1']].merge(station_test_data[['ds', 'y']], on='ds', how='left')\n",
    "result['station_name'] = station_name\n",
    "\n",
    "# Compute R² score\n",
    "y_actual = result['y'].dropna()\n",
    "y_predicted = result.loc[y_actual.index, 'yhat1']\n",
    "\n",
    "r2 = r2_score(y_actual, y_predicted)\n",
    "\n",
    "# Convert results into DataFrame for display\n",
    "r2_df = pd.DataFrame([[station_name, r2]], columns=['Station Name', 'R² Score'])"
   ]
  },
  {
   "cell_type": "code",
   "execution_count": null,
   "metadata": {},
   "outputs": [],
   "source": []
  }
 ],
 "metadata": {
  "kernelspec": {
   "display_name": "base",
   "language": "python",
   "name": "python3"
  },
  "language_info": {
   "codemirror_mode": {
    "name": "ipython",
    "version": 3
   },
   "file_extension": ".py",
   "mimetype": "text/x-python",
   "name": "python",
   "nbconvert_exporter": "python",
   "pygments_lexer": "ipython3",
   "version": "3.12.5"
  }
 },
 "nbformat": 4,
 "nbformat_minor": 2
}
